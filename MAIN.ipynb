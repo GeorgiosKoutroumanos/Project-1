{
 "cells": [
  {
   "cell_type": "markdown",
   "id": "bb215ac0-c088-4d08-b329-1609c97e68e7",
   "metadata": {},
   "source": [
    "### MAIN"
   ]
  },
  {
   "cell_type": "code",
   "execution_count": 3,
   "id": "3b34c9df-a6b6-41e1-b4de-3a1a50f1013c",
   "metadata": {},
   "outputs": [
    {
     "name": "stdout",
     "output_type": "stream",
     "text": [
      "Requirement already satisfied: kagglehub[pandas-datasets] in /opt/anaconda3/lib/python3.12/site-packages (0.3.9)\n",
      "Requirement already satisfied: packaging in /opt/anaconda3/lib/python3.12/site-packages (from kagglehub[pandas-datasets]) (24.1)\n",
      "Requirement already satisfied: pyyaml in /opt/anaconda3/lib/python3.12/site-packages (from kagglehub[pandas-datasets]) (6.0.1)\n",
      "Requirement already satisfied: requests in /opt/anaconda3/lib/python3.12/site-packages (from kagglehub[pandas-datasets]) (2.32.3)\n",
      "Requirement already satisfied: tqdm in /opt/anaconda3/lib/python3.12/site-packages (from kagglehub[pandas-datasets]) (4.66.5)\n",
      "Requirement already satisfied: pandas in /opt/anaconda3/lib/python3.12/site-packages (from kagglehub[pandas-datasets]) (2.2.2)\n",
      "Requirement already satisfied: numpy>=1.26.0 in /opt/anaconda3/lib/python3.12/site-packages (from pandas->kagglehub[pandas-datasets]) (1.26.4)\n",
      "Requirement already satisfied: python-dateutil>=2.8.2 in /opt/anaconda3/lib/python3.12/site-packages (from pandas->kagglehub[pandas-datasets]) (2.9.0.post0)\n",
      "Requirement already satisfied: pytz>=2020.1 in /opt/anaconda3/lib/python3.12/site-packages (from pandas->kagglehub[pandas-datasets]) (2024.1)\n",
      "Requirement already satisfied: tzdata>=2022.7 in /opt/anaconda3/lib/python3.12/site-packages (from pandas->kagglehub[pandas-datasets]) (2023.3)\n",
      "Requirement already satisfied: charset-normalizer<4,>=2 in /opt/anaconda3/lib/python3.12/site-packages (from requests->kagglehub[pandas-datasets]) (3.3.2)\n",
      "Requirement already satisfied: idna<4,>=2.5 in /opt/anaconda3/lib/python3.12/site-packages (from requests->kagglehub[pandas-datasets]) (3.7)\n",
      "Requirement already satisfied: urllib3<3,>=1.21.1 in /opt/anaconda3/lib/python3.12/site-packages (from requests->kagglehub[pandas-datasets]) (2.2.3)\n",
      "Requirement already satisfied: certifi>=2017.4.17 in /opt/anaconda3/lib/python3.12/site-packages (from requests->kagglehub[pandas-datasets]) (2024.12.14)\n",
      "Requirement already satisfied: six>=1.5 in /opt/anaconda3/lib/python3.12/site-packages (from python-dateutil>=2.8.2->pandas->kagglehub[pandas-datasets]) (1.16.0)\n",
      "Requirement already satisfied: kaggle in /opt/anaconda3/lib/python3.12/site-packages (1.6.17)\n",
      "Requirement already satisfied: six>=1.10 in /opt/anaconda3/lib/python3.12/site-packages (from kaggle) (1.16.0)\n",
      "Requirement already satisfied: certifi>=2023.7.22 in /opt/anaconda3/lib/python3.12/site-packages (from kaggle) (2024.12.14)\n",
      "Requirement already satisfied: python-dateutil in /opt/anaconda3/lib/python3.12/site-packages (from kaggle) (2.9.0.post0)\n",
      "Requirement already satisfied: requests in /opt/anaconda3/lib/python3.12/site-packages (from kaggle) (2.32.3)\n",
      "Requirement already satisfied: tqdm in /opt/anaconda3/lib/python3.12/site-packages (from kaggle) (4.66.5)\n",
      "Requirement already satisfied: python-slugify in /opt/anaconda3/lib/python3.12/site-packages (from kaggle) (5.0.2)\n",
      "Requirement already satisfied: urllib3 in /opt/anaconda3/lib/python3.12/site-packages (from kaggle) (2.2.3)\n",
      "Requirement already satisfied: bleach in /opt/anaconda3/lib/python3.12/site-packages (from kaggle) (4.1.0)\n",
      "Requirement already satisfied: packaging in /opt/anaconda3/lib/python3.12/site-packages (from bleach->kaggle) (24.1)\n",
      "Requirement already satisfied: webencodings in /opt/anaconda3/lib/python3.12/site-packages (from bleach->kaggle) (0.5.1)\n",
      "Requirement already satisfied: text-unidecode>=1.3 in /opt/anaconda3/lib/python3.12/site-packages (from python-slugify->kaggle) (1.3)\n",
      "Requirement already satisfied: charset-normalizer<4,>=2 in /opt/anaconda3/lib/python3.12/site-packages (from requests->kaggle) (3.3.2)\n",
      "Requirement already satisfied: idna<4,>=2.5 in /opt/anaconda3/lib/python3.12/site-packages (from requests->kaggle) (3.7)\n",
      "Dataset URL: https://www.kaggle.com/datasets/iramshahzadi9/remote-work-and-mental-health\n",
      "License(s): other\n",
      "Downloading remote-work-and-mental-health.zip to /Users/verapinto/Desktop/Projects/Project-1\n",
      "100%|███████████████████████████████████████| 93.0k/93.0k [00:00<00:00, 510kB/s]\n",
      "100%|███████████████████████████████████████| 93.0k/93.0k [00:00<00:00, 506kB/s]\n"
     ]
    },
    {
     "data": {
      "text/html": [
       "<div>\n",
       "<style scoped>\n",
       "    .dataframe tbody tr th:only-of-type {\n",
       "        vertical-align: middle;\n",
       "    }\n",
       "\n",
       "    .dataframe tbody tr th {\n",
       "        vertical-align: top;\n",
       "    }\n",
       "\n",
       "    .dataframe thead th {\n",
       "        text-align: right;\n",
       "    }\n",
       "</style>\n",
       "<table border=\"1\" class=\"dataframe\">\n",
       "  <thead>\n",
       "    <tr style=\"text-align: right;\">\n",
       "      <th></th>\n",
       "      <th>Employee_ID</th>\n",
       "      <th>Age</th>\n",
       "      <th>Gender</th>\n",
       "      <th>Job_Role</th>\n",
       "      <th>Industry</th>\n",
       "      <th>Years_of_Experience</th>\n",
       "      <th>Work_Location</th>\n",
       "      <th>Hours_Worked_Per_Week</th>\n",
       "      <th>Number_of_Virtual_Meetings</th>\n",
       "      <th>Work_Life_Balance_Rating</th>\n",
       "      <th>Stress_Level</th>\n",
       "      <th>Mental_Health_Condition</th>\n",
       "      <th>Access_to_Mental_Health_Resources</th>\n",
       "      <th>Productivity_Change</th>\n",
       "      <th>Social_Isolation_Rating</th>\n",
       "      <th>Satisfaction_with_Remote_Work</th>\n",
       "      <th>Company_Support_for_Remote_Work</th>\n",
       "      <th>Physical_Activity</th>\n",
       "      <th>Sleep_Quality</th>\n",
       "      <th>Region</th>\n",
       "    </tr>\n",
       "  </thead>\n",
       "  <tbody>\n",
       "    <tr>\n",
       "      <th>0</th>\n",
       "      <td>EMP0001</td>\n",
       "      <td>32</td>\n",
       "      <td>Non-binary</td>\n",
       "      <td>HR</td>\n",
       "      <td>Healthcare</td>\n",
       "      <td>13</td>\n",
       "      <td>Hybrid</td>\n",
       "      <td>47</td>\n",
       "      <td>7</td>\n",
       "      <td>2</td>\n",
       "      <td>Medium</td>\n",
       "      <td>Depression</td>\n",
       "      <td>No</td>\n",
       "      <td>Decrease</td>\n",
       "      <td>1</td>\n",
       "      <td>Unsatisfied</td>\n",
       "      <td>1</td>\n",
       "      <td>Weekly</td>\n",
       "      <td>Good</td>\n",
       "      <td>Europe</td>\n",
       "    </tr>\n",
       "    <tr>\n",
       "      <th>1</th>\n",
       "      <td>EMP0002</td>\n",
       "      <td>40</td>\n",
       "      <td>Female</td>\n",
       "      <td>Data Scientist</td>\n",
       "      <td>IT</td>\n",
       "      <td>3</td>\n",
       "      <td>Remote</td>\n",
       "      <td>52</td>\n",
       "      <td>4</td>\n",
       "      <td>1</td>\n",
       "      <td>Medium</td>\n",
       "      <td>Anxiety</td>\n",
       "      <td>No</td>\n",
       "      <td>Increase</td>\n",
       "      <td>3</td>\n",
       "      <td>Satisfied</td>\n",
       "      <td>2</td>\n",
       "      <td>Weekly</td>\n",
       "      <td>Good</td>\n",
       "      <td>Asia</td>\n",
       "    </tr>\n",
       "    <tr>\n",
       "      <th>2</th>\n",
       "      <td>EMP0003</td>\n",
       "      <td>59</td>\n",
       "      <td>Non-binary</td>\n",
       "      <td>Software Engineer</td>\n",
       "      <td>Education</td>\n",
       "      <td>22</td>\n",
       "      <td>Hybrid</td>\n",
       "      <td>46</td>\n",
       "      <td>11</td>\n",
       "      <td>5</td>\n",
       "      <td>Medium</td>\n",
       "      <td>Anxiety</td>\n",
       "      <td>No</td>\n",
       "      <td>No Change</td>\n",
       "      <td>4</td>\n",
       "      <td>Unsatisfied</td>\n",
       "      <td>5</td>\n",
       "      <td>NaN</td>\n",
       "      <td>Poor</td>\n",
       "      <td>North America</td>\n",
       "    </tr>\n",
       "    <tr>\n",
       "      <th>3</th>\n",
       "      <td>EMP0004</td>\n",
       "      <td>27</td>\n",
       "      <td>Male</td>\n",
       "      <td>Software Engineer</td>\n",
       "      <td>Finance</td>\n",
       "      <td>20</td>\n",
       "      <td>Onsite</td>\n",
       "      <td>32</td>\n",
       "      <td>8</td>\n",
       "      <td>4</td>\n",
       "      <td>High</td>\n",
       "      <td>Depression</td>\n",
       "      <td>Yes</td>\n",
       "      <td>Increase</td>\n",
       "      <td>3</td>\n",
       "      <td>Unsatisfied</td>\n",
       "      <td>3</td>\n",
       "      <td>NaN</td>\n",
       "      <td>Poor</td>\n",
       "      <td>Europe</td>\n",
       "    </tr>\n",
       "    <tr>\n",
       "      <th>4</th>\n",
       "      <td>EMP0005</td>\n",
       "      <td>49</td>\n",
       "      <td>Male</td>\n",
       "      <td>Sales</td>\n",
       "      <td>Consulting</td>\n",
       "      <td>32</td>\n",
       "      <td>Onsite</td>\n",
       "      <td>35</td>\n",
       "      <td>12</td>\n",
       "      <td>2</td>\n",
       "      <td>High</td>\n",
       "      <td>NaN</td>\n",
       "      <td>Yes</td>\n",
       "      <td>Decrease</td>\n",
       "      <td>3</td>\n",
       "      <td>Unsatisfied</td>\n",
       "      <td>3</td>\n",
       "      <td>Weekly</td>\n",
       "      <td>Average</td>\n",
       "      <td>North America</td>\n",
       "    </tr>\n",
       "  </tbody>\n",
       "</table>\n",
       "</div>"
      ],
      "text/plain": [
       "  Employee_ID  Age      Gender           Job_Role    Industry  \\\n",
       "0     EMP0001   32  Non-binary                 HR  Healthcare   \n",
       "1     EMP0002   40      Female     Data Scientist          IT   \n",
       "2     EMP0003   59  Non-binary  Software Engineer   Education   \n",
       "3     EMP0004   27        Male  Software Engineer     Finance   \n",
       "4     EMP0005   49        Male              Sales  Consulting   \n",
       "\n",
       "   Years_of_Experience Work_Location  Hours_Worked_Per_Week  \\\n",
       "0                   13        Hybrid                     47   \n",
       "1                    3        Remote                     52   \n",
       "2                   22        Hybrid                     46   \n",
       "3                   20        Onsite                     32   \n",
       "4                   32        Onsite                     35   \n",
       "\n",
       "   Number_of_Virtual_Meetings  Work_Life_Balance_Rating Stress_Level  \\\n",
       "0                           7                         2       Medium   \n",
       "1                           4                         1       Medium   \n",
       "2                          11                         5       Medium   \n",
       "3                           8                         4         High   \n",
       "4                          12                         2         High   \n",
       "\n",
       "  Mental_Health_Condition Access_to_Mental_Health_Resources  \\\n",
       "0              Depression                                No   \n",
       "1                 Anxiety                                No   \n",
       "2                 Anxiety                                No   \n",
       "3              Depression                               Yes   \n",
       "4                     NaN                               Yes   \n",
       "\n",
       "  Productivity_Change  Social_Isolation_Rating Satisfaction_with_Remote_Work  \\\n",
       "0            Decrease                        1                   Unsatisfied   \n",
       "1            Increase                        3                     Satisfied   \n",
       "2           No Change                        4                   Unsatisfied   \n",
       "3            Increase                        3                   Unsatisfied   \n",
       "4            Decrease                        3                   Unsatisfied   \n",
       "\n",
       "   Company_Support_for_Remote_Work Physical_Activity Sleep_Quality  \\\n",
       "0                                1            Weekly          Good   \n",
       "1                                2            Weekly          Good   \n",
       "2                                5               NaN          Poor   \n",
       "3                                3               NaN          Poor   \n",
       "4                                3            Weekly       Average   \n",
       "\n",
       "          Region  \n",
       "0         Europe  \n",
       "1           Asia  \n",
       "2  North America  \n",
       "3         Europe  \n",
       "4  North America  "
      ]
     },
     "execution_count": 3,
     "metadata": {},
     "output_type": "execute_result"
    }
   ],
   "source": [
    "# Install dependencies\n",
    "!pip install \"kagglehub[pandas-datasets]\"\n",
    "\n",
    "import os\n",
    "os.environ['KAGGLE_USERNAME'] = 'veraapinto'\n",
    "os.environ['KAGGLE_KEY'] = 'e47f4642064e3cd9feb2dbb913a63bce'\n",
    "\n",
    "# Install the Kaggle package\n",
    "!pip install kaggle\n",
    "\n",
    "# Download the dataset\n",
    "!kaggle datasets download -d iramshahzadi9/remote-work-and-mental-health\n",
    "\n",
    "import zipfile\n",
    "with zipfile.ZipFile('remote-work-and-mental-health.zip', 'r') as zip_ref:\n",
    "    zip_ref.extractall('remote-work-and-mental-health')\n",
    "\n",
    "file_path = \"remote-work-and-mental-health/Impact_of_Remote_Work_on_Mental_Health.csv\"\n",
    "\n",
    "import pandas as pd\n",
    "import numpy as np\n",
    "df = pd.read_csv(file_path)\n",
    "df.head()"
   ]
  },
  {
   "cell_type": "code",
   "execution_count": 6,
   "id": "67094c74-976f-4b51-901a-293eba58438c",
   "metadata": {},
   "outputs": [
    {
     "data": {
      "text/plain": [
       "Index(['Employee_ID', 'Age', 'Gender', 'Job_Role', 'Industry',\n",
       "       'Years_of_Experience', 'Work_Location', 'Hours_Worked_Per_Week',\n",
       "       'Number_of_Virtual_Meetings', 'Work_Life_Balance_Rating',\n",
       "       'Stress_Level', 'Mental_Health_Condition',\n",
       "       'Access_to_Mental_Health_Resources', 'Productivity_Change',\n",
       "       'Social_Isolation_Rating', 'Satisfaction_with_Remote_Work',\n",
       "       'Company_Support_for_Remote_Work', 'Physical_Activity', 'Sleep_Quality',\n",
       "       'Region'],\n",
       "      dtype='object')"
      ]
     },
     "execution_count": 6,
     "metadata": {},
     "output_type": "execute_result"
    }
   ],
   "source": [
    "df.columns"
   ]
  },
  {
   "cell_type": "code",
   "execution_count": 9,
   "id": "c861a3eb-319a-446d-8716-70794a833f18",
   "metadata": {},
   "outputs": [
    {
     "data": {
      "text/plain": [
       "Index(['employee_id', 'age', 'gender', 'job_role', 'industry',\n",
       "       'years_of_experience', 'work_location', 'hours_worked_per_week',\n",
       "       'number_of_virtual_meetings', 'work_life_balance_rating',\n",
       "       'stress_level', 'mental_health_condition',\n",
       "       'access_to_mental_health_resources', 'productivity_change',\n",
       "       'social_isolation_rating', 'satisfaction_with_remote_work',\n",
       "       'company_support_for_remote_work', 'physical_activity', 'sleep_quality',\n",
       "       'region'],\n",
       "      dtype='object')"
      ]
     },
     "execution_count": 9,
     "metadata": {},
     "output_type": "execute_result"
    }
   ],
   "source": [
    "# change column names to lower case\n",
    "df.columns = df.columns.str.lower()\n",
    "df.columns"
   ]
  },
  {
   "cell_type": "code",
   "execution_count": 12,
   "id": "d330dc10-cc43-4385-8b94-60e3fc7b28d7",
   "metadata": {},
   "outputs": [
    {
     "data": {
      "text/plain": [
       "employee_id                           0.00\n",
       "age                                   0.00\n",
       "gender                                0.00\n",
       "job_role                              0.00\n",
       "industry                              0.00\n",
       "years_of_experience                   0.00\n",
       "work_location                         0.00\n",
       "hours_worked_per_week                 0.00\n",
       "number_of_virtual_meetings            0.00\n",
       "work_life_balance_rating              0.00\n",
       "stress_level                          0.00\n",
       "mental_health_condition              23.92\n",
       "access_to_mental_health_resources     0.00\n",
       "productivity_change                   0.00\n",
       "social_isolation_rating               0.00\n",
       "satisfaction_with_remote_work         0.00\n",
       "company_support_for_remote_work       0.00\n",
       "physical_activity                    32.58\n",
       "sleep_quality                         0.00\n",
       "region                                0.00\n",
       "dtype: float64"
      ]
     },
     "execution_count": 12,
     "metadata": {},
     "output_type": "execute_result"
    }
   ],
   "source": [
    "#checked null values in %: \n",
    "df.isnull().mean()*100"
   ]
  },
  {
   "cell_type": "code",
   "execution_count": 15,
   "id": "fad8b3c9-441e-4cbb-90fc-b56c4aacc470",
   "metadata": {},
   "outputs": [
    {
     "data": {
      "text/plain": [
       "employee_id                             0\n",
       "age                                     0\n",
       "gender                                  0\n",
       "job_role                                0\n",
       "industry                                0\n",
       "years_of_experience                     0\n",
       "work_location                           0\n",
       "hours_worked_per_week                   0\n",
       "number_of_virtual_meetings              0\n",
       "work_life_balance_rating                0\n",
       "stress_level                            0\n",
       "mental_health_condition              1196\n",
       "access_to_mental_health_resources       0\n",
       "productivity_change                     0\n",
       "social_isolation_rating                 0\n",
       "satisfaction_with_remote_work           0\n",
       "company_support_for_remote_work         0\n",
       "physical_activity                    1629\n",
       "sleep_quality                           0\n",
       "region                                  0\n",
       "dtype: int64"
      ]
     },
     "execution_count": 15,
     "metadata": {},
     "output_type": "execute_result"
    }
   ],
   "source": [
    "#checked null values: \n",
    "df.isnull().sum()"
   ]
  },
  {
   "cell_type": "code",
   "execution_count": 18,
   "id": "ccae89f6-6279-4280-9014-43c83dbf82b8",
   "metadata": {},
   "outputs": [],
   "source": [
    "# Define a function to fill null values based on conditions:\n",
    "def fill_null_value(row):\n",
    "    if (row['stress_level'] == 'high' and row['Productivity_Change'] == 'decrease' and row['sleep_quality'] == 'poor'):\n",
    "        return \"Burnout\"\n",
    "    elif (row['stress_level'] == 'high' and row['Productivity_Change'] == 'decrease' and row['sleep_quality'] == 'average'):\n",
    "        return \"Anxiety\"\n",
    "    else:\n",
    "        return \"Unknown\"\n",
    "\n",
    "# Apply the function to the DataFrame\n",
    "df['mental_health_condition'] = df.apply(lambda row: fill_null_value(row) if pd.isnull(row['mental_health_condition']) else row['mental_health_condition'], axis=1)\n"
   ]
  },
  {
   "cell_type": "code",
   "execution_count": 21,
   "id": "4e631c6f-6ec6-4307-b0e3-47f72712179f",
   "metadata": {},
   "outputs": [],
   "source": [
    "# Replace blank (None or NaN) cells with 'unknown':\n",
    "df['physical_activity'] = df['physical_activity'].replace(np.nan, 'Unknown')"
   ]
  },
  {
   "cell_type": "code",
   "execution_count": 24,
   "id": "9ec69af6-09ea-41fb-bd7f-cb24d5319850",
   "metadata": {},
   "outputs": [
    {
     "data": {
      "text/plain": [
       "employee_id                          0\n",
       "age                                  0\n",
       "gender                               0\n",
       "job_role                             0\n",
       "industry                             0\n",
       "years_of_experience                  0\n",
       "work_location                        0\n",
       "hours_worked_per_week                0\n",
       "number_of_virtual_meetings           0\n",
       "work_life_balance_rating             0\n",
       "stress_level                         0\n",
       "mental_health_condition              0\n",
       "access_to_mental_health_resources    0\n",
       "productivity_change                  0\n",
       "social_isolation_rating              0\n",
       "satisfaction_with_remote_work        0\n",
       "company_support_for_remote_work      0\n",
       "physical_activity                    0\n",
       "sleep_quality                        0\n",
       "region                               0\n",
       "dtype: int64"
      ]
     },
     "execution_count": 24,
     "metadata": {},
     "output_type": "execute_result"
    }
   ],
   "source": [
    "df.isnull().sum()"
   ]
  },
  {
   "cell_type": "code",
   "execution_count": 27,
   "id": "95f665b7-cc35-4dd8-add5-cbe2927adf1d",
   "metadata": {},
   "outputs": [
    {
     "data": {
      "text/plain": [
       "0"
      ]
     },
     "execution_count": 27,
     "metadata": {},
     "output_type": "execute_result"
    }
   ],
   "source": [
    "#Check Duplicates:\n",
    "df.duplicated().sum()"
   ]
  },
  {
   "cell_type": "code",
   "execution_count": 30,
   "id": "15ab93ee-9e7a-4f0b-8077-f11610dd76c3",
   "metadata": {},
   "outputs": [
    {
     "data": {
      "text/plain": [
       "employee_id                          object\n",
       "age                                   int64\n",
       "gender                               object\n",
       "job_role                             object\n",
       "industry                             object\n",
       "years_of_experience                   int64\n",
       "work_location                        object\n",
       "hours_worked_per_week                 int64\n",
       "number_of_virtual_meetings            int64\n",
       "work_life_balance_rating              int64\n",
       "stress_level                         object\n",
       "mental_health_condition              object\n",
       "access_to_mental_health_resources    object\n",
       "productivity_change                  object\n",
       "social_isolation_rating               int64\n",
       "satisfaction_with_remote_work        object\n",
       "company_support_for_remote_work       int64\n",
       "physical_activity                    object\n",
       "sleep_quality                        object\n",
       "region                               object\n",
       "dtype: object"
      ]
     },
     "execution_count": 30,
     "metadata": {},
     "output_type": "execute_result"
    }
   ],
   "source": [
    "#Check data types:\n",
    "df.dtypes"
   ]
  },
  {
   "cell_type": "code",
   "execution_count": 33,
   "id": "f294283b-3b97-4a1b-82e8-a530fa614e6c",
   "metadata": {},
   "outputs": [],
   "source": [
    "# Convert the access_to_mental_health_resources column from object type to boolean:\n",
    "df['access_to_mental_health_resources'] = df['access_to_mental_health_resources'].map({'Yes': True, 'No': False})"
   ]
  },
  {
   "cell_type": "code",
   "execution_count": 36,
   "id": "314a570c-5165-4c33-96b8-56b39b569a5d",
   "metadata": {},
   "outputs": [
    {
     "data": {
      "text/plain": [
       "employee_id                          object\n",
       "age                                   int64\n",
       "gender                               object\n",
       "job_role                             object\n",
       "industry                             object\n",
       "years_of_experience                   int64\n",
       "work_location                        object\n",
       "hours_worked_per_week                 int64\n",
       "number_of_virtual_meetings            int64\n",
       "work_life_balance_rating              int64\n",
       "stress_level                         object\n",
       "mental_health_condition              object\n",
       "access_to_mental_health_resources      bool\n",
       "productivity_change                  object\n",
       "social_isolation_rating               int64\n",
       "satisfaction_with_remote_work        object\n",
       "company_support_for_remote_work       int64\n",
       "physical_activity                    object\n",
       "sleep_quality                        object\n",
       "region                               object\n",
       "dtype: object"
      ]
     },
     "execution_count": 36,
     "metadata": {},
     "output_type": "execute_result"
    }
   ],
   "source": [
    "#Check data types changes:\n",
    "df.dtypes"
   ]
  },
  {
   "cell_type": "code",
   "execution_count": null,
   "id": "e9dbf14e-a1ee-469b-bd98-79bd9ef61f80",
   "metadata": {},
   "outputs": [],
   "source": []
  }
 ],
 "metadata": {
  "kernelspec": {
   "display_name": "Python [conda env:base] *",
   "language": "python",
   "name": "conda-base-py"
  },
  "language_info": {
   "codemirror_mode": {
    "name": "ipython",
    "version": 3
   },
   "file_extension": ".py",
   "mimetype": "text/x-python",
   "name": "python",
   "nbconvert_exporter": "python",
   "pygments_lexer": "ipython3",
   "version": "3.12.7"
  }
 },
 "nbformat": 4,
 "nbformat_minor": 5
}
