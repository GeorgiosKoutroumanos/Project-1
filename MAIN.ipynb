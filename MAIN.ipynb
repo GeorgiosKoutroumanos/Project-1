{
 "cells": [
  {
   "cell_type": "code",
   "execution_count": null,
   "id": "c78bea08-fb4e-4d64-afe5-f651784568ff",
   "metadata": {},
   "outputs": [],
   "source": [
    "### MAIN"
   ]
  }
 ],
 "metadata": {
  "kernelspec": {
   "display_name": "Python [conda env:base] *",
   "language": "python",
   "name": "conda-base-py"
  },
  "language_info": {
   "codemirror_mode": {
    "name": "ipython",
    "version": 3
   },
   "file_extension": ".py",
   "mimetype": "text/x-python",
   "name": "python",
   "nbconvert_exporter": "python",
   "pygments_lexer": "ipython3",
   "version": "3.12.7"
  }
 },
 "nbformat": 4,
 "nbformat_minor": 5
}
